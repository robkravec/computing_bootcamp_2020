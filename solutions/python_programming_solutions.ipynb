{
 "cells": [
  {
   "cell_type": "markdown",
   "metadata": {},
   "source": [
    "# Python Programming Tasks Solutions"
   ]
  },
  {
   "cell_type": "markdown",
   "metadata": {},
   "source": [
    "## Modules"
   ]
  },
  {
   "cell_type": "code",
   "execution_count": 1,
   "metadata": {},
   "outputs": [],
   "source": [
    "import numpy as np\n",
    "import scipy.stats as st\n",
    "import matplotlib.pyplot as plt"
   ]
  },
  {
   "cell_type": "markdown",
   "metadata": {},
   "source": [
    "## Introduction\n",
    "\n",
    "The following tasks are from the slides `02_python.html`. \n",
    "\n",
    "Recall some of the notebook shortcuts:\n",
    "\n",
    "In edit mode:\n",
    "\n",
    "- Run cell and add new cell: `shift + enter`\n",
    "- Add a line within a cell: `enter`\n",
    "\n",
    "In command mode:\n",
    "\n",
    "- Save the notebook: `s`\n",
    "- Change cell to markdown: `m`\n",
    "- Change cell to code: `y`\n",
    "- Cut, copy, paste, delete a cell: `x`, `c`, `v`, `d`\n",
    "- Add a cell above, below: `a`, `b`"
   ]
  },
  {
   "cell_type": "markdown",
   "metadata": {},
   "source": [
    "## Tasks\n",
    "\n",
    "### Task 1\n",
    "\n",
    "Create a float variable and each of the four built-in data structures \n",
    "discussed (list, tuple, dictionary, set). For each object, use a combination\n",
    "of two methods or attributes and document in markdown their functionality."
   ]
  },
  {
   "cell_type": "markdown",
   "metadata": {},
   "source": [
    "**Float variable**"
   ]
  },
  {
   "cell_type": "code",
   "execution_count": 2,
   "metadata": {},
   "outputs": [
    {
     "name": "stdout",
     "output_type": "stream",
     "text": [
      "[3.14, 0.0]\n"
     ]
    }
   ],
   "source": [
    "x = 3.14\n",
    "print([x.real, x.imag])"
   ]
  },
  {
   "cell_type": "markdown",
   "metadata": {},
   "source": [
    "**List**"
   ]
  },
  {
   "cell_type": "code",
   "execution_count": 3,
   "metadata": {},
   "outputs": [
    {
     "name": "stdout",
     "output_type": "stream",
     "text": [
      "2\n",
      "[6, -5, 0, 5, 4]\n"
     ]
    }
   ],
   "source": [
    "my_list = [4, 5, 0, -5, 6]\n",
    "\n",
    "# find index that 0 is located\n",
    "print(my_list.index(0))\n",
    "\n",
    "# reverse the order of my_list\n",
    "my_list.reverse()\n",
    "print(my_list)"
   ]
  },
  {
   "cell_type": "markdown",
   "metadata": {},
   "source": [
    "**Tuple**"
   ]
  },
  {
   "cell_type": "code",
   "execution_count": 4,
   "metadata": {},
   "outputs": [
    {
     "name": "stdout",
     "output_type": "stream",
     "text": [
      "('t', 'h', 'i', 's', 'i', 's', 'a', 't', 'u', 'p', 'l', 'e')\n",
      "2\n",
      "2\n"
     ]
    }
   ],
   "source": [
    "my_tuple = tuple(list(\"thisisatuple\"))\n",
    "print(my_tuple)\n",
    "\n",
    "# count the i's\n",
    "print(my_tuple.count(\"i\"))\n",
    "\n",
    "# identify the location of the first i\n",
    "print(my_tuple.index(\"i\"))"
   ]
  },
  {
   "cell_type": "markdown",
   "metadata": {},
   "source": [
    "**Dictionary**"
   ]
  },
  {
   "cell_type": "code",
   "execution_count": 5,
   "metadata": {},
   "outputs": [
    {
     "name": "stdout",
     "output_type": "stream",
     "text": [
      "dict_keys(['AAPL', 'BA', 'PFE', 'F', 'XOM'])\n",
      "('XOM', 'Exxon Mobil')\n",
      "{'AAPL': 'Apple', 'BA': 'Boeing', 'PFE': 'Pfizer', 'F': 'Ford'}\n"
     ]
    }
   ],
   "source": [
    "my_dictionary = {\"AAPL\":\"Apple\", \"BA\":\"Boeing\", \"PFE\":\"Pfizer\", \"F\":\"Ford\", \"XOM\":\"Exxon Mobil\"}\n",
    "\n",
    "# get keys of dictionary\n",
    "print(my_dictionary.keys())\n",
    "\n",
    "# remove and return last key-value pair\n",
    "print(my_dictionary.popitem())\n",
    "print(my_dictionary)"
   ]
  },
  {
   "cell_type": "markdown",
   "metadata": {},
   "source": [
    "**Set**"
   ]
  },
  {
   "cell_type": "code",
   "execution_count": 6,
   "metadata": {},
   "outputs": [
    {
     "name": "stdout",
     "output_type": "stream",
     "text": [
      "{0, 1, 2, 3, 4, 9}\n",
      "{0, 9, 3}\n",
      "None\n",
      "{0, 1, 2, 3, 9}\n"
     ]
    }
   ],
   "source": [
    "my_set = {0, 0, 4, 1, 0, 9, 4, 1, 3, 2}\n",
    "print(my_set)\n",
    "\n",
    "# get intersection of sets\n",
    "print(my_set.intersection({9, 0, 3}))\n",
    "\n",
    "# remove 4 from my_set\n",
    "print(my_set.discard(4))\n",
    "print(my_set)"
   ]
  },
  {
   "cell_type": "markdown",
   "metadata": {},
   "source": [
    "### Task 2\n",
    "\n",
    "Set object `dilemma`, given below, to all lowercase. Then, reverse the \n",
    "order of the letters. Lastly, capitalize the first \"b\".\n",
    "    \n",
    "*Hint:* `dilemma[start:end:step]`. What does a negative index do?"
   ]
  },
  {
   "cell_type": "code",
   "execution_count": 7,
   "metadata": {},
   "outputs": [],
   "source": [
    "dilemma = \"Borrow OR Rob\""
   ]
  },
  {
   "cell_type": "code",
   "execution_count": 8,
   "metadata": {},
   "outputs": [
    {
     "data": {
      "text/plain": [
       "'Bor ro worrob'"
      ]
     },
     "execution_count": 8,
     "metadata": {},
     "output_type": "execute_result"
    }
   ],
   "source": [
    "dilemma.lower()[::-1].capitalize()"
   ]
  },
  {
   "cell_type": "markdown",
   "metadata": {},
   "source": [
    "### Task 3\n",
    "\n",
    "Write a function that takes a list and returns a list of the\n",
    "unique elements of the inputted list in descending order. Do this without \n",
    "using `set()`."
   ]
  },
  {
   "cell_type": "code",
   "execution_count": 9,
   "metadata": {},
   "outputs": [],
   "source": [
    "def unique_list(lst):\n",
    "    x = []\n",
    "    for i in lst:\n",
    "        if i not in x:\n",
    "            x.append(i)\n",
    "    x.sort()\n",
    "    x.reverse()\n",
    "    return x"
   ]
  },
  {
   "cell_type": "code",
   "execution_count": 10,
   "metadata": {},
   "outputs": [
    {
     "data": {
      "text/plain": [
       "[5, 4, 3, 2, 1]"
      ]
     },
     "execution_count": 10,
     "metadata": {},
     "output_type": "execute_result"
    }
   ],
   "source": [
    "unique_list([1,1,1,1,2,2,3,3,3,3,4,5])"
   ]
  },
  {
   "cell_type": "markdown",
   "metadata": {},
   "source": [
    "### Task 4\n",
    "\n",
    "Write a function that counts the number of prime numbers less than or equal to a specified number. You may find\n",
    "`is_prime()` to be helpful."
   ]
  },
  {
   "cell_type": "code",
   "execution_count": 11,
   "metadata": {},
   "outputs": [],
   "source": [
    "def is_prime(n):\n",
    "  \"\"\"\n",
    "  This function checks if a number is prime.\n",
    "  \n",
    "  n = positive integer\n",
    "  \n",
    "  Example:\n",
    "  \n",
    "  is_prime(2)\n",
    "  is_prime(16)\n",
    "  \n",
    "  \"\"\"\n",
    "  \n",
    "  if n < 3:\n",
    "    result = n - 1\n",
    "  else:\n",
    "    for i in range(2, n):\n",
    "      if (n % i) == 0:\n",
    "        result = False\n",
    "        break\n",
    "    else:\n",
    "      result = True\n",
    "      \n",
    "  return bool(result)"
   ]
  },
  {
   "cell_type": "code",
   "execution_count": 12,
   "metadata": {},
   "outputs": [],
   "source": [
    "def prime_count(k):\n",
    "  count = 0\n",
    "  for i in range(1, k + 1):\n",
    "    count += is_prime(i)\n",
    "\n",
    "  return count"
   ]
  },
  {
   "cell_type": "code",
   "execution_count": 13,
   "metadata": {},
   "outputs": [
    {
     "name": "stdout",
     "output_type": "stream",
     "text": [
      "6\n",
      "168\n"
     ]
    }
   ],
   "source": [
    "print(prime_count(k = 13))\n",
    "print(prime_count(k = 1000))"
   ]
  },
  {
   "cell_type": "markdown",
   "metadata": {},
   "source": [
    "### Task 5\n",
    "\n",
    "Create a histogram based off of random variables generated from a probability\n",
    "distribution of your choice."
   ]
  },
  {
   "cell_type": "code",
   "execution_count": 14,
   "metadata": {},
   "outputs": [
    {
     "data": {
      "image/png": "[encoded data removed]",
      "text/plain": [
       "<Figure size 432x288 with 1 Axes>"
      ]
     },
     "metadata": {
      "needs_background": "light"
     },
     "output_type": "display_data"
    }
   ],
   "source": [
    "n = 10000\n",
    "lam = 3\n",
    "pois_rv = st.poisson.rvs(size = n, mu = lam)\n",
    "plt.hist(pois_rv, bins = 10)\n",
    "plt.xlabel(\"X\")\n",
    "plt.ylabel(\"Frequency\")\n",
    "plt.title(\"Poisson distribution\")\n",
    "plt.show()"
   ]
  },
  {
   "cell_type": "markdown",
   "metadata": {},
   "source": [
    "### Task 6\n",
    "\n",
    "Plot 100 time steps of a simple symmetric random walk that starts at the value 0."
   ]
  },
  {
   "cell_type": "code",
   "execution_count": 15,
   "metadata": {},
   "outputs": [
    {
     "data": {
      "image/png": "[encoded data removed]",
      "text/plain": [
       "<Figure size 432x288 with 1 Axes>"
      ]
     },
     "metadata": {
      "needs_background": "light"
     },
     "output_type": "display_data"
    }
   ],
   "source": [
    "moves = np.random.random(100)\n",
    "moves[moves < 0.5] = -1\n",
    "moves[moves >= 0.5] = 1\n",
    "walk = moves.cumsum()\n",
    "walk_list = list(walk)\n",
    "walk_list.insert(0, 0)\n",
    "plt.plot(walk_list)\n",
    "plt.xlabel(\"Time step\")\n",
    "plt.ylabel(\"Value\")\n",
    "plt.show()"
   ]
  },
  {
   "cell_type": "code",
   "execution_count": null,
   "metadata": {},
   "outputs": [],
   "source": []
  }
 ],
 "metadata": {
  "kernelspec": {
   "display_name": "Python 3",
   "language": "python",
   "name": "python3"
  },
  "language_info": {
   "codemirror_mode": {
    "name": "ipython",
    "version": 3
   },
   "file_extension": ".py",
   "mimetype": "text/x-python",
   "name": "python",
   "nbconvert_exporter": "python",
   "pygments_lexer": "ipython3",
   "version": "3.7.6"
  }
 },
 "nbformat": 4,
 "nbformat_minor": 2
}
